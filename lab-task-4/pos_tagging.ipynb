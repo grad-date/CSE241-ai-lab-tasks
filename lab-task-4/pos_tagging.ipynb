{
 "cells": [
  {
   "cell_type": "markdown",
   "metadata": {},
   "source": [
    "# Part of Speech Tagging (POS)\n",
    "---"
   ]
  },
  {
   "cell_type": "markdown",
   "metadata": {},
   "source": [
    "### Loading essential packages"
   ]
  },
  {
   "cell_type": "code",
   "execution_count": 1,
   "metadata": {
    "id": "tguF5m8A8WWV"
   },
   "outputs": [],
   "source": [
    "import warnings\n",
    "warnings.filterwarnings(\"ignore\")\n",
    "\n",
    "import numpy as np\n",
    "from matplotlib import pyplot as plt\n",
    "\n",
    "from keras.utils.np_utils import to_categorical\n",
    "from keras.models import Sequential\n",
    "from keras.layers import Embedding, Dense, Input, TimeDistributed\n",
    "from keras.layers import LSTM, GRU, Bidirectional, SimpleRNN, RNN\n",
    "from keras.models import Model\n",
    "from keras.preprocessing.text import Tokenizer\n",
    "\n",
    "from sklearn.model_selection import train_test_split\n",
    "from sklearn.utils import shuffle"
   ]
  },
  {
   "cell_type": "markdown",
   "metadata": {},
   "source": [
    "### Data Pre-processing"
   ]
  },
  {
   "cell_type": "code",
   "execution_count": 2,
   "metadata": {
    "colab": {
     "base_uri": "https://localhost:8080/",
     "height": 35
    },
    "id": "AORlJ49x8d5N",
    "outputId": "810c3b2b-6137-45ac-da8b-5fb613c18403"
   },
   "outputs": [
    {
     "data": {
      "text/plain": [
       "'Confidence NN\\n'"
      ]
     },
     "execution_count": 2,
     "metadata": {},
     "output_type": "execute_result"
    }
   ],
   "source": [
    "with open(\"POS_train.txt\",\"r\") as f:\n",
    "  raw_corpus = f.readlines()\n",
    "\n",
    "raw_corpus[0]"
   ]
  },
  {
   "cell_type": "code",
   "execution_count": 3,
   "metadata": {
    "colab": {
     "base_uri": "https://localhost:8080/",
     "height": 35
    },
    "id": "8G0eXzJD9Qxe",
    "outputId": "3663e050-b7ef-437b-9273-23211707c209"
   },
   "outputs": [
    {
     "data": {
      "text/plain": [
       "'Confidence NN'"
      ]
     },
     "execution_count": 3,
     "metadata": {},
     "output_type": "execute_result"
    }
   ],
   "source": [
    "corpus = []\n",
    "\n",
    "for i in raw_corpus:\n",
    "  corpus.append(i[:-1])\n",
    "\n",
    "corpus[0]"
   ]
  },
  {
   "cell_type": "code",
   "execution_count": 4,
   "metadata": {
    "id": "PHwxA_Am_ePk"
   },
   "outputs": [],
   "source": [
    "# x contains words and y contains pos-tags\n",
    "x = []\n",
    "y = []\n",
    "\n",
    "x_sentence = []\n",
    "y_sentence = []\n",
    "\n",
    "# converting words into sentences\n",
    "for i in corpus:\n",
    "  s = i.split()\n",
    "  if s:\n",
    "    if s[0] != '.':\n",
    "      x_sentence.append(s[0])\n",
    "      y_sentence.append(s[1])\n",
    "    else:\n",
    "      x.append(x_sentence)\n",
    "      y.append(y_sentence)\n",
    "      x_sentence = []\n",
    "      y_sentence = []"
   ]
  },
  {
   "cell_type": "code",
   "execution_count": 5,
   "metadata": {
    "colab": {
     "base_uri": "https://localhost:8080/"
    },
    "id": "bkDJzxnNIc8N",
    "outputId": "8dc319c7-a708-4e13-b82a-55f1e618a078"
   },
   "outputs": [
    {
     "name": "stdout",
     "output_type": "stream",
     "text": [
      "8725 8725\n"
     ]
    }
   ],
   "source": [
    "print(len(x), len(y))"
   ]
  },
  {
   "cell_type": "code",
   "execution_count": 6,
   "metadata": {
    "colab": {
     "base_uri": "https://localhost:8080/"
    },
    "id": "11Xcj5jMIfz2",
    "outputId": "d1332305-edd9-41a0-dc97-4da68cb2f066"
   },
   "outputs": [
    {
     "name": "stdout",
     "output_type": "stream",
     "text": [
      "Total Sentences: 8725\n",
      "Vocabulary Size: 19121\n",
      "Total Tags: 44\n"
     ]
    }
   ],
   "source": [
    "vocab_size = len(set([word for sentence in x for word in sentence]))\n",
    "num_tags   = len(set([word for sentence in y for word in sentence]))\n",
    "\n",
    "print(\"Total Sentences:\", len(x))\n",
    "print(\"Vocabulary Size:\", vocab_size)\n",
    "print(\"Total Tags:\", num_tags)"
   ]
  },
  {
   "cell_type": "code",
   "execution_count": 7,
   "metadata": {
    "colab": {
     "base_uri": "https://localhost:8080/"
    },
    "id": "BBmSx_TtIsCF",
    "outputId": "785ccad3-e23d-4ec0-da7c-fc7df167741f"
   },
   "outputs": [
    {
     "name": "stdout",
     "output_type": "stream",
     "text": [
      "sample X:  ['Confidence', 'in', 'the', 'pound', 'is', 'widely', 'expected', 'to', 'take', 'another', 'sharp', 'dive', 'if', 'trade', 'figures', 'for', 'September', ',', 'due', 'for', 'release', 'tomorrow', ',', 'fail', 'to', 'show', 'a', 'substantial', 'improvement', 'from', 'July', 'and', 'August', \"'s\", 'near-record', 'deficits']\n",
      "sample Y:  ['NN', 'IN', 'DT', 'NN', 'VBZ', 'RB', 'VBN', 'TO', 'VB', 'DT', 'JJ', 'NN', 'IN', 'NN', 'NNS', 'IN', 'NNP', ',', 'JJ', 'IN', 'NN', 'NN', ',', 'VB', 'TO', 'VB', 'DT', 'JJ', 'NN', 'IN', 'NNP', 'CC', 'NNP', 'POS', 'JJ', 'NNS']\n",
      "36 36\n"
     ]
    }
   ],
   "source": [
    "print(\"sample X: \", x[0])\n",
    "print(\"sample Y: \", y[0])\n",
    "print(len(x[0]), len(y[0]))"
   ]
  },
  {
   "cell_type": "code",
   "execution_count": 8,
   "metadata": {
    "id": "LyFjRWGh_eNg"
   },
   "outputs": [],
   "source": [
    "# tokenizing x and y\n",
    "\n",
    "# encode x\n",
    "word_tokenizer = Tokenizer()                                              # instantiate tokeniser\n",
    "word_tokenizer.fit_on_texts(x)                                          # fit tokeniser on data\n",
    "x_encoded = word_tokenizer.texts_to_sequences(x)  \n",
    "\n",
    "# encode y\n",
    "tag_tokenizer = Tokenizer()\n",
    "tag_tokenizer.fit_on_texts(y)\n",
    "y_encoded = tag_tokenizer.texts_to_sequences(y)"
   ]
  },
  {
   "cell_type": "code",
   "execution_count": 9,
   "metadata": {
    "colab": {
     "base_uri": "https://localhost:8080/"
    },
    "id": "W3yhRwLSI8Lg",
    "outputId": "15249278-c4b6-4195-9cb9-6b69a599d241"
   },
   "outputs": [
    {
     "name": "stdout",
     "output_type": "stream",
     "text": [
      "** Raw data point ** \n",
      " ----------------------------------------------------------------------------------------------------\n",
      "X:  ['Confidence', 'in', 'the', 'pound', 'is', 'widely', 'expected', 'to', 'take', 'another', 'sharp', 'dive', 'if', 'trade', 'figures', 'for', 'September', ',', 'due', 'for', 'release', 'tomorrow', ',', 'fail', 'to', 'show', 'a', 'substantial', 'improvement', 'from', 'July', 'and', 'August', \"'s\", 'near-record', 'deficits']\n",
      "Y:  ['NN', 'IN', 'DT', 'NN', 'VBZ', 'RB', 'VBN', 'TO', 'VB', 'DT', 'JJ', 'NN', 'IN', 'NN', 'NNS', 'IN', 'NNP', ',', 'JJ', 'IN', 'NN', 'NN', ',', 'VB', 'TO', 'VB', 'DT', 'JJ', 'NN', 'IN', 'NNP', 'CC', 'NNP', 'POS', 'JJ', 'NNS']\n",
      "\n",
      "** Encoded data point ** \n",
      " ----------------------------------------------------------------------------------------------------\n",
      "X:  [1535, 6, 2, 1636, 14, 1105, 183, 4, 206, 245, 1145, 4972, 70, 480, 565, 8, 460, 1, 251, 8, 1749, 2554, 1, 4170, 4, 597, 5, 1308, 1536, 20, 735, 7, 548, 9, 6325, 8934]\n",
      "Y:  [1, 2, 4, 1, 15, 10, 14, 13, 11, 4, 6, 1, 2, 1, 5, 2, 3, 7, 6, 2, 1, 1, 7, 11, 13, 11, 4, 6, 1, 2, 3, 12, 3, 21, 6, 5]\n"
     ]
    }
   ],
   "source": [
    "# first encoded data point\n",
    "print(\"** Raw data point **\", \"\\n\", \"-\"*100)\n",
    "print('X: ', x[0])\n",
    "print('Y: ', y[0])\n",
    "print()\n",
    "print(\"** Encoded data point **\", \"\\n\", \"-\"*100)\n",
    "print('X: ', x_encoded[0])\n",
    "print('Y: ', y_encoded[0])"
   ]
  },
  {
   "cell_type": "code",
   "execution_count": 10,
   "metadata": {
    "colab": {
     "base_uri": "https://localhost:8080/"
    },
    "id": "XVbfVPNxBx_6",
    "outputId": "25f6a1e4-7563-41b3-d1c3-d60d3a32f546"
   },
   "outputs": [
    {
     "name": "stdout",
     "output_type": "stream",
     "text": [
      "8725 8725\n"
     ]
    }
   ],
   "source": [
    "print(len(x_encoded), len(y_encoded))"
   ]
  },
  {
   "cell_type": "code",
   "execution_count": 11,
   "metadata": {
    "colab": {
     "base_uri": "https://localhost:8080/"
    },
    "id": "t761G6KoB59m",
    "outputId": "43ddf29b-d988-4d59-d1c9-297f696433f5"
   },
   "outputs": [
    {
     "data": {
      "text/plain": [
       "124"
      ]
     },
     "execution_count": 11,
     "metadata": {},
     "output_type": "execute_result"
    }
   ],
   "source": [
    "# calculating max length of words in longest sentence\n",
    "\n",
    "max_len = 0\n",
    "\n",
    "for i in x:\n",
    "  if len(i) > max_len:\n",
    "    max_len = len(i)\n",
    "\n",
    "max_len"
   ]
  },
  {
   "cell_type": "code",
   "execution_count": 12,
   "metadata": {
    "id": "EMMO3IAaCPN0"
   },
   "outputs": [],
   "source": [
    "# manually padding\n",
    "\n",
    "for i in range(len(x_encoded)):\n",
    "  while(len(x_encoded[i])<max_len):\n",
    "    x_encoded[i].append(0)\n",
    "\n",
    "for i in range(len(y_encoded)):\n",
    "  while(len(y_encoded[i])<max_len):\n",
    "    y_encoded[i].append(0)"
   ]
  },
  {
   "cell_type": "code",
   "execution_count": 13,
   "metadata": {
    "id": "6u6vBm1XCwnm"
   },
   "outputs": [],
   "source": [
    "y_encoded = to_categorical(y_encoded)"
   ]
  },
  {
   "cell_type": "markdown",
   "metadata": {},
   "source": [
    "## Splitting the Data"
   ]
  },
  {
   "cell_type": "code",
   "execution_count": 14,
   "metadata": {
    "id": "Wk_S83mYC2Oe"
   },
   "outputs": [],
   "source": [
    "x_train, x_test, y_train, y_test = train_test_split(x_encoded, y_encoded)"
   ]
  },
  {
   "cell_type": "code",
   "execution_count": 15,
   "metadata": {
    "id": "teGG-S-jDYyD"
   },
   "outputs": [],
   "source": [
    "# converting into numpy arrays\n",
    "\n",
    "x_train = np.array(x_train)\n",
    "y_train = np.array(y_train)\n",
    "x_test = np.array(x_test)\n",
    "y_test = np.array(y_test)"
   ]
  },
  {
   "cell_type": "markdown",
   "metadata": {},
   "source": [
    "## RNN Model"
   ]
  },
  {
   "cell_type": "code",
   "execution_count": 16,
   "metadata": {
    "id": "7uRv_fhmJJbb"
   },
   "outputs": [],
   "source": [
    "num_tags = y_train.shape[2]"
   ]
  },
  {
   "cell_type": "code",
   "execution_count": 17,
   "metadata": {
    "colab": {
     "base_uri": "https://localhost:8080/"
    },
    "id": "T4HZx2poJdym",
    "outputId": "9061083c-262a-4584-ea92-6d4893134361"
   },
   "outputs": [
    {
     "name": "stdout",
     "output_type": "stream",
     "text": [
      "Model: \"sequential\"\n",
      "_________________________________________________________________\n",
      "Layer (type)                 Output Shape              Param #   \n",
      "=================================================================\n",
      "embedding (Embedding)        (None, None, 100)         1912200   \n",
      "_________________________________________________________________\n",
      "simple_rnn (SimpleRNN)       (None, None, 64)          10560     \n",
      "_________________________________________________________________\n",
      "time_distributed (TimeDistri (None, None, 45)          2925      \n",
      "=================================================================\n",
      "Total params: 1,925,685\n",
      "Trainable params: 1,925,685\n",
      "Non-trainable params: 0\n",
      "_________________________________________________________________\n"
     ]
    }
   ],
   "source": [
    "# making of model\n",
    "rnn_model = Sequential()\n",
    "rnn_model.add(Embedding(vocab_size+1,100))\n",
    "rnn_model.add(SimpleRNN(64, \n",
    " return_sequences=True\n",
    "))\n",
    "rnn_model.add(TimeDistributed(Dense(num_tags, activation=\"softmax\")))\n",
    "\n",
    "# compile model\n",
    "rnn_model.compile(loss      =  'categorical_crossentropy',\n",
    "                  optimizer =  'adam',\n",
    "                  metrics   =  ['acc'])\n",
    "\n",
    "# summary of the model\n",
    "rnn_model.summary()"
   ]
  },
  {
   "cell_type": "code",
   "execution_count": 18,
   "metadata": {
    "colab": {
     "base_uri": "https://localhost:8080/"
    },
    "id": "9YuzNfNKJdw7",
    "outputId": "1cd75957-d96b-4ac4-dd23-c4bd3da5baf0"
   },
   "outputs": [
    {
     "name": "stdout",
     "output_type": "stream",
     "text": [
      "(6543, 124)\n",
      "(6543, 124, 45)\n",
      "(2182, 124)\n",
      "(2182, 124, 45)\n"
     ]
    }
   ],
   "source": [
    "print(x_train.shape)\n",
    "print(y_train.shape)\n",
    "print(x_test.shape)\n",
    "print(y_test.shape)"
   ]
  },
  {
   "cell_type": "code",
   "execution_count": 19,
   "metadata": {
    "colab": {
     "base_uri": "https://localhost:8080/"
    },
    "id": "XVT_ifAaJtZj",
    "outputId": "30542cd7-6bc3-4415-c081-00e9b180c612"
   },
   "outputs": [
    {
     "name": "stdout",
     "output_type": "stream",
     "text": [
      "Epoch 1/10\n",
      "52/52 [==============================] - 6s 104ms/step - loss: 2.1415 - acc: 0.7178 - val_loss: 0.9008 - val_acc: 0.8249\n",
      "Epoch 2/10\n",
      "52/52 [==============================] - 5s 103ms/step - loss: 0.8000 - acc: 0.8214 - val_loss: 0.6384 - val_acc: 0.8371\n",
      "Epoch 3/10\n",
      "52/52 [==============================] - 4s 80ms/step - loss: 0.6197 - acc: 0.8463 - val_loss: 0.5668 - val_acc: 0.8618\n",
      "Epoch 4/10\n",
      "52/52 [==============================] - 4s 74ms/step - loss: 0.5541 - acc: 0.8680 - val_loss: 0.5148 - val_acc: 0.8787\n",
      "Epoch 5/10\n",
      "52/52 [==============================] - 4s 73ms/step - loss: 0.4883 - acc: 0.8867 - val_loss: 0.4509 - val_acc: 0.8949\n",
      "Epoch 6/10\n",
      "52/52 [==============================] - 4s 74ms/step - loss: 0.4185 - acc: 0.9088 - val_loss: 0.3799 - val_acc: 0.9166\n",
      "Epoch 7/10\n",
      "52/52 [==============================] - 4s 74ms/step - loss: 0.3425 - acc: 0.9315 - val_loss: 0.3084 - val_acc: 0.9359\n",
      "Epoch 8/10\n",
      "52/52 [==============================] - 4s 74ms/step - loss: 0.2745 - acc: 0.9471 - val_loss: 0.2501 - val_acc: 0.9494\n",
      "Epoch 9/10\n",
      "52/52 [==============================] - 4s 74ms/step - loss: 0.2155 - acc: 0.9600 - val_loss: 0.2040 - val_acc: 0.9588\n",
      "Epoch 10/10\n",
      "52/52 [==============================] - 4s 74ms/step - loss: 0.1691 - acc: 0.9700 - val_loss: 0.1685 - val_acc: 0.9659\n"
     ]
    }
   ],
   "source": [
    "# training rnn model\n",
    "rnn_training = rnn_model.fit(x_train, y_train, batch_size=128, epochs=10, validation_data=(x_test, y_test))"
   ]
  },
  {
   "cell_type": "code",
   "execution_count": 20,
   "metadata": {
    "colab": {
     "base_uri": "https://localhost:8080/",
     "height": 295
    },
    "id": "SNvOze24Jw2E",
    "outputId": "eaf09e9b-31b5-4ced-c23d-ffe213dabc6c",
    "scrolled": true
   },
   "outputs": [
    {
     "data": {
      "image/png": "[encoded data removed]",
      "text/plain": [
       "<Figure size 432x288 with 1 Axes>"
      ]
     },
     "metadata": {
      "needs_background": "light"
     },
     "output_type": "display_data"
    }
   ],
   "source": [
    "plt.plot(rnn_training.history['acc'])\n",
    "plt.plot(rnn_training.history['val_acc'])\n",
    "plt.title('model accuracy')\n",
    "plt.ylabel('accuracy')\n",
    "plt.xlabel('epoch')\n",
    "plt.legend(['train', 'test'], loc=\"lower right\")\n",
    "plt.show()"
   ]
  },
  {
   "cell_type": "code",
   "execution_count": 21,
   "metadata": {
    "colab": {
     "base_uri": "https://localhost:8080/"
    },
    "id": "Id7606U1LjzV",
    "outputId": "a3fd7dcd-ce99-4281-e270-fa0fbb96d307"
   },
   "outputs": [
    {
     "name": "stdout",
     "output_type": "stream",
     "text": [
      "69/69 [==============================] - 0s 7ms/step - loss: 0.1685 - acc: 0.9659\n",
      "Loss: 0.16853152215480804,\n",
      "Accuracy: 0.9659161567687988\n"
     ]
    }
   ],
   "source": [
    "loss, accuracy = rnn_model.evaluate(x_test, y_test, verbose = 1)\n",
    "print(\"Loss: {0},\\nAccuracy: {1}\".format(loss, accuracy))"
   ]
  },
  {
   "cell_type": "code",
   "execution_count": 27,
   "metadata": {},
   "outputs": [
    {
     "name": "stdout",
     "output_type": "stream",
     "text": [
      "INFO:tensorflow:Assets written to: rnn_training/assets\n"
     ]
    }
   ],
   "source": [
    "rnn_model.save(\"rnn_model\")"
   ]
  },
  {
   "cell_type": "markdown",
   "metadata": {},
   "source": [
    "## Bi-LSTM Model"
   ]
  },
  {
   "cell_type": "code",
   "execution_count": 22,
   "metadata": {
    "colab": {
     "base_uri": "https://localhost:8080/"
    },
    "id": "H6a7YT4bJw00",
    "outputId": "31dbc54d-5b4e-454c-c611-e4009769e1b9",
    "scrolled": true
   },
   "outputs": [
    {
     "name": "stdout",
     "output_type": "stream",
     "text": [
      "Model: \"sequential_1\"\n",
      "_________________________________________________________________\n",
      "Layer (type)                 Output Shape              Param #   \n",
      "=================================================================\n",
      "embedding_1 (Embedding)      (None, None, 100)         1912200   \n",
      "_________________________________________________________________\n",
      "bidirectional (Bidirectional (None, None, 128)         84480     \n",
      "_________________________________________________________________\n",
      "time_distributed_1 (TimeDist (None, None, 45)          5805      \n",
      "=================================================================\n",
      "Total params: 2,002,485\n",
      "Trainable params: 2,002,485\n",
      "Non-trainable params: 0\n",
      "_________________________________________________________________\n"
     ]
    }
   ],
   "source": [
    "lstm_model = Sequential()\n",
    "lstm_model.add(Embedding(vocab_size+1, 100))\n",
    "lstm_model.add(Bidirectional(LSTM(64, return_sequences=True)))\n",
    "lstm_model.add(TimeDistributed(Dense(num_tags, activation=\"softmax\")))\n",
    "lstm_model.compile(loss      =  'categorical_crossentropy',\n",
    "                  optimizer =  'adam',\n",
    "                  metrics   =  ['acc'])\n",
    "lstm_model.summary()"
   ]
  },
  {
   "cell_type": "code",
   "execution_count": 23,
   "metadata": {
    "colab": {
     "base_uri": "https://localhost:8080/"
    },
    "id": "sO2_YE80LFYK",
    "outputId": "ab3a3b94-60e0-40e4-875c-3ed8ab5fbbd1",
    "scrolled": false
   },
   "outputs": [
    {
     "name": "stdout",
     "output_type": "stream",
     "text": [
      "Epoch 1/10\n",
      "52/52 [==============================] - 12s 198ms/step - loss: 2.3329 - acc: 0.7424 - val_loss: 0.6634 - val_acc: 0.8149\n",
      "Epoch 2/10\n",
      "52/52 [==============================] - 12s 224ms/step - loss: 0.6423 - acc: 0.8156 - val_loss: 0.5697 - val_acc: 0.8378\n",
      "Epoch 3/10\n",
      "52/52 [==============================] - 10s 187ms/step - loss: 0.5733 - acc: 0.8351 - val_loss: 0.5483 - val_acc: 0.8443\n",
      "Epoch 4/10\n",
      "52/52 [==============================] - 10s 187ms/step - loss: 0.5505 - acc: 0.8467 - val_loss: 0.5294 - val_acc: 0.8607\n",
      "Epoch 5/10\n",
      "52/52 [==============================] - 10s 186ms/step - loss: 0.5320 - acc: 0.8648 - val_loss: 0.4813 - val_acc: 0.8803\n",
      "Epoch 6/10\n",
      "52/52 [==============================] - 10s 186ms/step - loss: 0.4673 - acc: 0.8810 - val_loss: 0.3882 - val_acc: 0.8972\n",
      "Epoch 7/10\n",
      "52/52 [==============================] - 10s 187ms/step - loss: 0.3672 - acc: 0.9021 - val_loss: 0.2922 - val_acc: 0.9267\n",
      "Epoch 8/10\n",
      "52/52 [==============================] - 11s 204ms/step - loss: 0.2660 - acc: 0.9375 - val_loss: 0.2102 - val_acc: 0.9552\n",
      "Epoch 9/10\n",
      "52/52 [==============================] - 11s 203ms/step - loss: 0.1838 - acc: 0.9642 - val_loss: 0.1497 - val_acc: 0.9716\n",
      "Epoch 10/10\n",
      "52/52 [==============================] - 10s 195ms/step - loss: 0.1251 - acc: 0.9794 - val_loss: 0.1102 - val_acc: 0.9793\n"
     ]
    }
   ],
   "source": [
    "# training bi-lstm model\n",
    "lstm_training = lstm_model.fit(x_train, y_train, batch_size=128, epochs=10, validation_data=(x_test, y_test))"
   ]
  },
  {
   "cell_type": "code",
   "execution_count": 24,
   "metadata": {
    "id": "OmLKO38PLacO"
   },
   "outputs": [
    {
     "data": {
      "image/png": "[encoded data removed]",
      "text/plain": [
       "<Figure size 432x288 with 1 Axes>"
      ]
     },
     "metadata": {
      "needs_background": "light"
     },
     "output_type": "display_data"
    }
   ],
   "source": [
    "plt.plot(lstm_training.history['acc'])\n",
    "plt.plot(lstm_training.history['val_acc'])\n",
    "plt.title('model accuracy')\n",
    "plt.ylabel('accuracy')\n",
    "plt.xlabel('epoch')\n",
    "plt.legend(['train', 'test'], loc=\"lower right\")\n",
    "plt.show()"
   ]
  },
  {
   "cell_type": "code",
   "execution_count": 25,
   "metadata": {
    "id": "_JMyZx4HLcJs"
   },
   "outputs": [
    {
     "name": "stdout",
     "output_type": "stream",
     "text": [
      "69/69 [==============================] - 2s 23ms/step - loss: 0.1102 - acc: 0.9793\n",
      "Loss: 0.1102321669459343,\n",
      "Accuracy: 0.9793102145195007\n"
     ]
    }
   ],
   "source": [
    "loss, accuracy = lstm_model.evaluate(x_test, y_test, verbose = 1)\n",
    "print(\"Loss: {0},\\nAccuracy: {1}\".format(loss, accuracy))"
   ]
  },
  {
   "cell_type": "code",
   "execution_count": 28,
   "metadata": {
    "scrolled": false
   },
   "outputs": [
    {
     "name": "stderr",
     "output_type": "stream",
     "text": [
      "WARNING:absl:Found untraced functions such as lstm_cell_1_layer_call_and_return_conditional_losses, lstm_cell_1_layer_call_fn, lstm_cell_2_layer_call_and_return_conditional_losses, lstm_cell_2_layer_call_fn, lstm_cell_1_layer_call_fn while saving (showing 5 of 10). These functions will not be directly callable after loading.\n",
      "WARNING:absl:Found untraced functions such as lstm_cell_1_layer_call_and_return_conditional_losses, lstm_cell_1_layer_call_fn, lstm_cell_2_layer_call_and_return_conditional_losses, lstm_cell_2_layer_call_fn, lstm_cell_1_layer_call_fn while saving (showing 5 of 10). These functions will not be directly callable after loading.\n"
     ]
    },
    {
     "name": "stdout",
     "output_type": "stream",
     "text": [
      "INFO:tensorflow:Assets written to: lstm_model/assets\n"
     ]
    },
    {
     "name": "stderr",
     "output_type": "stream",
     "text": [
      "INFO:tensorflow:Assets written to: lstm_model/assets\n"
     ]
    }
   ],
   "source": [
    "lstm_model.save(\"lstm_model\")"
   ]
  },
  {
   "cell_type": "code",
   "execution_count": null,
   "metadata": {},
   "outputs": [],
   "source": []
  }
 ],
 "metadata": {
  "colab": {
   "collapsed_sections": [],
   "name": "pos_tagging.ipynb",
   "provenance": []
  },
  "kernelspec": {
   "display_name": "Python 3",
   "language": "python",
   "name": "python3"
  },
  "language_info": {
   "codemirror_mode": {
    "name": "ipython",
    "version": 3
   },
   "file_extension": ".py",
   "mimetype": "text/x-python",
   "name": "python",
   "nbconvert_exporter": "python",
   "pygments_lexer": "ipython3",
   "version": "3.8.5"
  }
 },
 "nbformat": 4,
 "nbformat_minor": 1
}
