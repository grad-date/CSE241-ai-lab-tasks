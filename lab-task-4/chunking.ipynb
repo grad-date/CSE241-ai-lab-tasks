{
 "cells": [
  {
   "cell_type": "markdown",
   "metadata": {},
   "source": [
    "# Chunking\n",
    "---"
   ]
  },
  {
   "cell_type": "markdown",
   "metadata": {},
   "source": [
    "### Loading essential packages"
   ]
  },
  {
   "cell_type": "code",
   "execution_count": 1,
   "metadata": {
    "id": "tguF5m8A8WWV"
   },
   "outputs": [],
   "source": [
    "import warnings\n",
    "warnings.filterwarnings(\"ignore\")\n",
    "\n",
    "import numpy as np\n",
    "from matplotlib import pyplot as plt\n",
    "\n",
    "from keras.utils.np_utils import to_categorical\n",
    "from keras.models import Sequential\n",
    "from keras.layers import Embedding, Dense, Input, TimeDistributed\n",
    "from keras.layers import LSTM, GRU, Bidirectional, SimpleRNN, RNN\n",
    "from keras.models import Model\n",
    "from keras.preprocessing.text import Tokenizer\n",
    "\n",
    "from sklearn.model_selection import train_test_split\n",
    "from sklearn.utils import shuffle"
   ]
  },
  {
   "cell_type": "markdown",
   "metadata": {},
   "source": [
    "### Data Pre-processing"
   ]
  },
  {
   "cell_type": "code",
   "execution_count": 2,
   "metadata": {
    "colab": {
     "base_uri": "https://localhost:8080/",
     "height": 35
    },
    "id": "AORlJ49x8d5N",
    "outputId": "810c3b2b-6137-45ac-da8b-5fb613c18403"
   },
   "outputs": [
    {
     "data": {
      "text/plain": [
       "'Confidence NN B-NP\\n'"
      ]
     },
     "execution_count": 2,
     "metadata": {},
     "output_type": "execute_result"
    }
   ],
   "source": [
    "with open(\"chunking.txt\",\"r\") as f:\n",
    "  raw_corpus = f.readlines()\n",
    "\n",
    "raw_corpus[0]"
   ]
  },
  {
   "cell_type": "code",
   "execution_count": 3,
   "metadata": {
    "colab": {
     "base_uri": "https://localhost:8080/",
     "height": 35
    },
    "id": "8G0eXzJD9Qxe",
    "outputId": "3663e050-b7ef-437b-9273-23211707c209"
   },
   "outputs": [
    {
     "data": {
      "text/plain": [
       "'Confidence NN B-NP'"
      ]
     },
     "execution_count": 3,
     "metadata": {},
     "output_type": "execute_result"
    }
   ],
   "source": [
    "corpus = []\n",
    "\n",
    "for i in raw_corpus:\n",
    "  corpus.append(i[:-1])\n",
    "\n",
    "corpus[0]"
   ]
  },
  {
   "cell_type": "code",
   "execution_count": 4,
   "metadata": {
    "id": "PHwxA_Am_ePk"
   },
   "outputs": [],
   "source": [
    "# x contains words and y contains pos-tags\n",
    "x = []\n",
    "y = []\n",
    "\n",
    "x_sentence = []\n",
    "y_sentence = []\n",
    "\n",
    "# converting words into sentences\n",
    "for i in corpus:\n",
    "  s = i.split()\n",
    "  if s:\n",
    "    if s[0] != '.':\n",
    "      x_sentence.append(s[0])\n",
    "      y_sentence.append(s[2])\n",
    "    else:\n",
    "      x.append(x_sentence)\n",
    "      y.append(y_sentence)\n",
    "      x_sentence = []\n",
    "      y_sentence = []"
   ]
  },
  {
   "cell_type": "code",
   "execution_count": 5,
   "metadata": {
    "colab": {
     "base_uri": "https://localhost:8080/"
    },
    "id": "bkDJzxnNIc8N",
    "outputId": "8dc319c7-a708-4e13-b82a-55f1e618a078"
   },
   "outputs": [
    {
     "name": "stdout",
     "output_type": "stream",
     "text": [
      "8725 8725\n"
     ]
    }
   ],
   "source": [
    "print(len(x), len(y))"
   ]
  },
  {
   "cell_type": "code",
   "execution_count": 6,
   "metadata": {
    "colab": {
     "base_uri": "https://localhost:8080/"
    },
    "id": "11Xcj5jMIfz2",
    "outputId": "d1332305-edd9-41a0-dc97-4da68cb2f066"
   },
   "outputs": [
    {
     "name": "stdout",
     "output_type": "stream",
     "text": [
      "Total Sentences: 8725\n",
      "Vocabulary Size: 19121\n",
      "Total Tags: 22\n"
     ]
    }
   ],
   "source": [
    "vocab_size = len(set([word for sentence in x for word in sentence]))\n",
    "num_tags   = len(set([word for sentence in y for word in sentence]))\n",
    "\n",
    "print(\"Total Sentences:\", len(x))\n",
    "print(\"Vocabulary Size:\", vocab_size)\n",
    "print(\"Total Tags:\", num_tags)"
   ]
  },
  {
   "cell_type": "code",
   "execution_count": 7,
   "metadata": {
    "colab": {
     "base_uri": "https://localhost:8080/"
    },
    "id": "BBmSx_TtIsCF",
    "outputId": "785ccad3-e23d-4ec0-da7c-fc7df167741f"
   },
   "outputs": [
    {
     "name": "stdout",
     "output_type": "stream",
     "text": [
      "sample X:  ['Confidence', 'in', 'the', 'pound', 'is', 'widely', 'expected', 'to', 'take', 'another', 'sharp', 'dive', 'if', 'trade', 'figures', 'for', 'September', ',', 'due', 'for', 'release', 'tomorrow', ',', 'fail', 'to', 'show', 'a', 'substantial', 'improvement', 'from', 'July', 'and', 'August', \"'s\", 'near-record', 'deficits']\n",
      "sample Y:  ['B-NP', 'B-PP', 'B-NP', 'I-NP', 'B-VP', 'I-VP', 'I-VP', 'I-VP', 'I-VP', 'B-NP', 'I-NP', 'I-NP', 'B-SBAR', 'B-NP', 'I-NP', 'B-PP', 'B-NP', 'O', 'B-ADJP', 'B-PP', 'B-NP', 'B-NP', 'O', 'B-VP', 'I-VP', 'I-VP', 'B-NP', 'I-NP', 'I-NP', 'B-PP', 'B-NP', 'I-NP', 'I-NP', 'B-NP', 'I-NP', 'I-NP']\n",
      "36 36\n"
     ]
    }
   ],
   "source": [
    "print(\"sample X: \", x[0])\n",
    "print(\"sample Y: \", y[0])\n",
    "print(len(x[0]), len(y[0]))"
   ]
  },
  {
   "cell_type": "code",
   "execution_count": 8,
   "metadata": {
    "id": "LyFjRWGh_eNg"
   },
   "outputs": [],
   "source": [
    "# tokenizing x and y\n",
    "\n",
    "# encode x\n",
    "word_tokenizer = Tokenizer()                                              # instantiate tokeniser\n",
    "word_tokenizer.fit_on_texts(x)                                          # fit tokeniser on data\n",
    "x_encoded = word_tokenizer.texts_to_sequences(x)  \n",
    "\n",
    "# encode y\n",
    "tag_tokenizer = Tokenizer()\n",
    "tag_tokenizer.fit_on_texts(y)\n",
    "y_encoded = tag_tokenizer.texts_to_sequences(y)"
   ]
  },
  {
   "cell_type": "code",
   "execution_count": 9,
   "metadata": {
    "colab": {
     "base_uri": "https://localhost:8080/"
    },
    "id": "W3yhRwLSI8Lg",
    "outputId": "15249278-c4b6-4195-9cb9-6b69a599d241"
   },
   "outputs": [
    {
     "name": "stdout",
     "output_type": "stream",
     "text": [
      "** Raw data point ** \n",
      " ----------------------------------------------------------------------------------------------------\n",
      "X:  ['Confidence', 'in', 'the', 'pound', 'is', 'widely', 'expected', 'to', 'take', 'another', 'sharp', 'dive', 'if', 'trade', 'figures', 'for', 'September', ',', 'due', 'for', 'release', 'tomorrow', ',', 'fail', 'to', 'show', 'a', 'substantial', 'improvement', 'from', 'July', 'and', 'August', \"'s\", 'near-record', 'deficits']\n",
      "Y:  ['B-NP', 'B-PP', 'B-NP', 'I-NP', 'B-VP', 'I-VP', 'I-VP', 'I-VP', 'I-VP', 'B-NP', 'I-NP', 'I-NP', 'B-SBAR', 'B-NP', 'I-NP', 'B-PP', 'B-NP', 'O', 'B-ADJP', 'B-PP', 'B-NP', 'B-NP', 'O', 'B-VP', 'I-VP', 'I-VP', 'B-NP', 'I-NP', 'I-NP', 'B-PP', 'B-NP', 'I-NP', 'I-NP', 'B-NP', 'I-NP', 'I-NP']\n",
      "\n",
      "** Encoded data point ** \n",
      " ----------------------------------------------------------------------------------------------------\n",
      "X:  [1535, 6, 2, 1636, 14, 1105, 183, 4, 206, 245, 1145, 4972, 70, 480, 565, 8, 460, 1, 251, 8, 1749, 2554, 1, 4170, 4, 597, 5, 1308, 1536, 20, 735, 7, 548, 9, 6325, 8934]\n",
      "Y:  [2, 4, 2, 1, 3, 6, 6, 6, 6, 2, 1, 1, 8, 2, 1, 4, 2, 5, 9, 4, 2, 2, 5, 3, 6, 6, 2, 1, 1, 4, 2, 1, 1, 2, 1, 1]\n"
     ]
    }
   ],
   "source": [
    "# first encoded data point\n",
    "print(\"** Raw data point **\", \"\\n\", \"-\"*100)\n",
    "print('X: ', x[0])\n",
    "print('Y: ', y[0])\n",
    "print()\n",
    "print(\"** Encoded data point **\", \"\\n\", \"-\"*100)\n",
    "print('X: ', x_encoded[0])\n",
    "print('Y: ', y_encoded[0])"
   ]
  },
  {
   "cell_type": "code",
   "execution_count": 10,
   "metadata": {
    "colab": {
     "base_uri": "https://localhost:8080/"
    },
    "id": "XVbfVPNxBx_6",
    "outputId": "25f6a1e4-7563-41b3-d1c3-d60d3a32f546"
   },
   "outputs": [
    {
     "name": "stdout",
     "output_type": "stream",
     "text": [
      "8725 8725\n"
     ]
    }
   ],
   "source": [
    "print(len(x_encoded), len(y_encoded))"
   ]
  },
  {
   "cell_type": "code",
   "execution_count": 11,
   "metadata": {
    "colab": {
     "base_uri": "https://localhost:8080/"
    },
    "id": "t761G6KoB59m",
    "outputId": "43ddf29b-d988-4d59-d1c9-297f696433f5"
   },
   "outputs": [
    {
     "data": {
      "text/plain": [
       "124"
      ]
     },
     "execution_count": 11,
     "metadata": {},
     "output_type": "execute_result"
    }
   ],
   "source": [
    "# calculating max length of words in longest sentence\n",
    "\n",
    "max_len = 0\n",
    "\n",
    "for i in x:\n",
    "  if len(i) > max_len:\n",
    "    max_len = len(i)\n",
    "\n",
    "max_len"
   ]
  },
  {
   "cell_type": "code",
   "execution_count": 12,
   "metadata": {
    "id": "EMMO3IAaCPN0"
   },
   "outputs": [],
   "source": [
    "# manually padding\n",
    "\n",
    "for i in range(len(x_encoded)):\n",
    "  while(len(x_encoded[i])<max_len):\n",
    "    x_encoded[i].append(0)\n",
    "\n",
    "for i in range(len(y_encoded)):\n",
    "  while(len(y_encoded[i])<max_len):\n",
    "    y_encoded[i].append(0)"
   ]
  },
  {
   "cell_type": "code",
   "execution_count": 13,
   "metadata": {
    "id": "6u6vBm1XCwnm"
   },
   "outputs": [],
   "source": [
    "y_encoded = to_categorical(y_encoded)"
   ]
  },
  {
   "cell_type": "markdown",
   "metadata": {},
   "source": [
    "## Splitting the Data"
   ]
  },
  {
   "cell_type": "code",
   "execution_count": 14,
   "metadata": {
    "id": "Wk_S83mYC2Oe"
   },
   "outputs": [],
   "source": [
    "x_train, x_test, y_train, y_test = train_test_split(x_encoded, y_encoded)"
   ]
  },
  {
   "cell_type": "code",
   "execution_count": 15,
   "metadata": {
    "id": "teGG-S-jDYyD"
   },
   "outputs": [],
   "source": [
    "# converting into numpy arrays\n",
    "\n",
    "x_train = np.array(x_train)\n",
    "y_train = np.array(y_train)\n",
    "x_test = np.array(x_test)\n",
    "y_test = np.array(y_test)"
   ]
  },
  {
   "cell_type": "markdown",
   "metadata": {},
   "source": [
    "## RNN Model"
   ]
  },
  {
   "cell_type": "code",
   "execution_count": 16,
   "metadata": {
    "id": "7uRv_fhmJJbb"
   },
   "outputs": [],
   "source": [
    "num_tags = y_train.shape[2]"
   ]
  },
  {
   "cell_type": "code",
   "execution_count": 17,
   "metadata": {
    "colab": {
     "base_uri": "https://localhost:8080/"
    },
    "id": "T4HZx2poJdym",
    "outputId": "9061083c-262a-4584-ea92-6d4893134361"
   },
   "outputs": [
    {
     "name": "stdout",
     "output_type": "stream",
     "text": [
      "Model: \"sequential\"\n",
      "_________________________________________________________________\n",
      "Layer (type)                 Output Shape              Param #   \n",
      "=================================================================\n",
      "embedding (Embedding)        (None, None, 100)         1912200   \n",
      "_________________________________________________________________\n",
      "simple_rnn (SimpleRNN)       (None, None, 64)          10560     \n",
      "_________________________________________________________________\n",
      "time_distributed (TimeDistri (None, None, 23)          1495      \n",
      "=================================================================\n",
      "Total params: 1,924,255\n",
      "Trainable params: 1,924,255\n",
      "Non-trainable params: 0\n",
      "_________________________________________________________________\n"
     ]
    }
   ],
   "source": [
    "# making of model\n",
    "rnn_model = Sequential()\n",
    "rnn_model.add(Embedding(vocab_size+1,100))\n",
    "rnn_model.add(SimpleRNN(64, \n",
    " return_sequences=True\n",
    "))\n",
    "rnn_model.add(TimeDistributed(Dense(num_tags, activation=\"softmax\")))\n",
    "\n",
    "# compile model\n",
    "rnn_model.compile(loss      =  'categorical_crossentropy',\n",
    "                  optimizer =  'adam',\n",
    "                  metrics   =  ['acc'])\n",
    "\n",
    "# summary of the model\n",
    "rnn_model.summary()"
   ]
  },
  {
   "cell_type": "code",
   "execution_count": 18,
   "metadata": {
    "colab": {
     "base_uri": "https://localhost:8080/"
    },
    "id": "9YuzNfNKJdw7",
    "outputId": "1cd75957-d96b-4ac4-dd23-c4bd3da5baf0"
   },
   "outputs": [
    {
     "name": "stdout",
     "output_type": "stream",
     "text": [
      "(6543, 124)\n",
      "(6543, 124, 23)\n",
      "(2182, 124)\n",
      "(2182, 124, 23)\n"
     ]
    }
   ],
   "source": [
    "print(x_train.shape)\n",
    "print(y_train.shape)\n",
    "print(x_test.shape)\n",
    "print(y_test.shape)"
   ]
  },
  {
   "cell_type": "code",
   "execution_count": 19,
   "metadata": {
    "colab": {
     "base_uri": "https://localhost:8080/"
    },
    "id": "XVT_ifAaJtZj",
    "outputId": "30542cd7-6bc3-4415-c081-00e9b180c612"
   },
   "outputs": [
    {
     "name": "stdout",
     "output_type": "stream",
     "text": [
      "Epoch 1/10\n",
      "52/52 [==============================] - 6s 94ms/step - loss: 1.7935 - acc: 0.6471 - val_loss: 0.5651 - val_acc: 0.8396\n",
      "Epoch 2/10\n",
      "52/52 [==============================] - 4s 71ms/step - loss: 0.5021 - acc: 0.8556 - val_loss: 0.3713 - val_acc: 0.9143\n",
      "Epoch 3/10\n",
      "52/52 [==============================] - 4s 83ms/step - loss: 0.3377 - acc: 0.9213 - val_loss: 0.2665 - val_acc: 0.9392\n",
      "Epoch 4/10\n",
      "52/52 [==============================] - 4s 71ms/step - loss: 0.2329 - acc: 0.9503 - val_loss: 0.1898 - val_acc: 0.9583\n",
      "Epoch 5/10\n",
      "52/52 [==============================] - 4s 69ms/step - loss: 0.1632 - acc: 0.9659 - val_loss: 0.1461 - val_acc: 0.9682\n",
      "Epoch 6/10\n",
      "52/52 [==============================] - 4s 72ms/step - loss: 0.1212 - acc: 0.9752 - val_loss: 0.1230 - val_acc: 0.9716\n",
      "Epoch 7/10\n",
      "52/52 [==============================] - 3s 65ms/step - loss: 0.0994 - acc: 0.9783 - val_loss: 0.1089 - val_acc: 0.9734\n",
      "Epoch 8/10\n",
      "52/52 [==============================] - 3s 66ms/step - loss: 0.0841 - acc: 0.9807 - val_loss: 0.0998 - val_acc: 0.9748\n",
      "Epoch 9/10\n",
      "52/52 [==============================] - 3s 66ms/step - loss: 0.0731 - acc: 0.9825 - val_loss: 0.0933 - val_acc: 0.9757\n",
      "Epoch 10/10\n",
      "52/52 [==============================] - 4s 69ms/step - loss: 0.0649 - acc: 0.9844 - val_loss: 0.0882 - val_acc: 0.9768\n"
     ]
    }
   ],
   "source": [
    "# training rnn model\n",
    "rnn_training = rnn_model.fit(x_train, y_train, batch_size=128, epochs=10, validation_data=(x_test, y_test))"
   ]
  },
  {
   "cell_type": "code",
   "execution_count": 20,
   "metadata": {
    "colab": {
     "base_uri": "https://localhost:8080/",
     "height": 295
    },
    "id": "SNvOze24Jw2E",
    "outputId": "eaf09e9b-31b5-4ced-c23d-ffe213dabc6c",
    "scrolled": true
   },
   "outputs": [
    {
     "data": {
      "image/png": "[encoded data removed]",
      "text/plain": [
       "<Figure size 432x288 with 1 Axes>"
      ]
     },
     "metadata": {
      "needs_background": "light"
     },
     "output_type": "display_data"
    }
   ],
   "source": [
    "plt.plot(rnn_training.history['acc'])\n",
    "plt.plot(rnn_training.history['val_acc'])\n",
    "plt.title('model accuracy')\n",
    "plt.ylabel('accuracy')\n",
    "plt.xlabel('epoch')\n",
    "plt.legend(['train', 'test'], loc=\"lower right\")\n",
    "plt.show()"
   ]
  },
  {
   "cell_type": "code",
   "execution_count": 21,
   "metadata": {
    "colab": {
     "base_uri": "https://localhost:8080/"
    },
    "id": "Id7606U1LjzV",
    "outputId": "a3fd7dcd-ce99-4281-e270-fa0fbb96d307"
   },
   "outputs": [
    {
     "name": "stdout",
     "output_type": "stream",
     "text": [
      "69/69 [==============================] - 0s 6ms/step - loss: 0.0882 - acc: 0.9768\n",
      "Loss: 0.08823484927415848,\n",
      "Accuracy: 0.9768376350402832\n"
     ]
    }
   ],
   "source": [
    "loss, accuracy = rnn_model.evaluate(x_test, y_test, verbose = 1)\n",
    "print(\"Loss: {0},\\nAccuracy: {1}\".format(loss, accuracy))"
   ]
  },
  {
   "cell_type": "code",
   "execution_count": 26,
   "metadata": {},
   "outputs": [
    {
     "name": "stdout",
     "output_type": "stream",
     "text": [
      "INFO:tensorflow:Assets written to: rnn_model/assets\n"
     ]
    }
   ],
   "source": [
    "rnn_model.save(\"rnn_model\")"
   ]
  },
  {
   "cell_type": "markdown",
   "metadata": {},
   "source": [
    "## Bi-LSTM Model"
   ]
  },
  {
   "cell_type": "code",
   "execution_count": 22,
   "metadata": {
    "colab": {
     "base_uri": "https://localhost:8080/"
    },
    "id": "H6a7YT4bJw00",
    "outputId": "31dbc54d-5b4e-454c-c611-e4009769e1b9"
   },
   "outputs": [
    {
     "name": "stdout",
     "output_type": "stream",
     "text": [
      "Model: \"sequential_1\"\n",
      "_________________________________________________________________\n",
      "Layer (type)                 Output Shape              Param #   \n",
      "=================================================================\n",
      "embedding_1 (Embedding)      (None, None, 100)         1912200   \n",
      "_________________________________________________________________\n",
      "bidirectional (Bidirectional (None, None, 128)         84480     \n",
      "_________________________________________________________________\n",
      "time_distributed_1 (TimeDist (None, None, 23)          2967      \n",
      "=================================================================\n",
      "Total params: 1,999,647\n",
      "Trainable params: 1,999,647\n",
      "Non-trainable params: 0\n",
      "_________________________________________________________________\n"
     ]
    }
   ],
   "source": [
    "lstm_model = Sequential()\n",
    "lstm_model.add(Embedding(vocab_size+1, 100))\n",
    "lstm_model.add(Bidirectional(LSTM(64, return_sequences=True)))\n",
    "lstm_model.add(TimeDistributed(Dense(num_tags, activation=\"softmax\")))\n",
    "lstm_model.compile(loss      =  'categorical_crossentropy',\n",
    "                  optimizer =  'adam',\n",
    "                  metrics   =  ['acc'])\n",
    "lstm_model.summary()"
   ]
  },
  {
   "cell_type": "code",
   "execution_count": 23,
   "metadata": {
    "colab": {
     "base_uri": "https://localhost:8080/"
    },
    "id": "sO2_YE80LFYK",
    "outputId": "ab3a3b94-60e0-40e4-875c-3ed8ab5fbbd1"
   },
   "outputs": [
    {
     "name": "stdout",
     "output_type": "stream",
     "text": [
      "Epoch 1/10\n",
      "52/52 [==============================] - 13s 206ms/step - loss: 1.9105 - acc: 0.7443 - val_loss: 0.4407 - val_acc: 0.8698\n",
      "Epoch 2/10\n",
      "52/52 [==============================] - 11s 210ms/step - loss: 0.4119 - acc: 0.8712 - val_loss: 0.3699 - val_acc: 0.8703\n",
      "Epoch 3/10\n",
      "52/52 [==============================] - 13s 256ms/step - loss: 0.3566 - acc: 0.8755 - val_loss: 0.3441 - val_acc: 0.8910\n",
      "Epoch 4/10\n",
      "52/52 [==============================] - 11s 209ms/step - loss: 0.3381 - acc: 0.8940 - val_loss: 0.3115 - val_acc: 0.8981\n",
      "Epoch 5/10\n",
      "52/52 [==============================] - 14s 268ms/step - loss: 0.2929 - acc: 0.9034 - val_loss: 0.2392 - val_acc: 0.9345\n",
      "Epoch 6/10\n",
      "52/52 [==============================] - 16s 301ms/step - loss: 0.2112 - acc: 0.9465 - val_loss: 0.1532 - val_acc: 0.9623\n",
      "Epoch 7/10\n",
      "52/52 [==============================] - 16s 300ms/step - loss: 0.1306 - acc: 0.9695 - val_loss: 0.1124 - val_acc: 0.9717\n",
      "Epoch 8/10\n",
      "52/52 [==============================] - 18s 339ms/step - loss: 0.0964 - acc: 0.9766 - val_loss: 0.0961 - val_acc: 0.9746\n",
      "Epoch 9/10\n",
      "52/52 [==============================] - 17s 326ms/step - loss: 0.0803 - acc: 0.9796 - val_loss: 0.0872 - val_acc: 0.9767\n",
      "Epoch 10/10\n",
      "52/52 [==============================] - 17s 334ms/step - loss: 0.0683 - acc: 0.9825 - val_loss: 0.0809 - val_acc: 0.9781\n"
     ]
    }
   ],
   "source": [
    "# training bi-lstm model\n",
    "lstm_training = lstm_model.fit(x_train, y_train, batch_size=128, epochs=10, validation_data=(x_test, y_test))"
   ]
  },
  {
   "cell_type": "code",
   "execution_count": 24,
   "metadata": {
    "id": "OmLKO38PLacO"
   },
   "outputs": [
    {
     "data": {
      "image/png": "[encoded data removed]",
      "text/plain": [
       "<Figure size 432x288 with 1 Axes>"
      ]
     },
     "metadata": {
      "needs_background": "light"
     },
     "output_type": "display_data"
    }
   ],
   "source": [
    "plt.plot(lstm_training.history['acc'])\n",
    "plt.plot(lstm_training.history['val_acc'])\n",
    "plt.title('model accuracy')\n",
    "plt.ylabel('accuracy')\n",
    "plt.xlabel('epoch')\n",
    "plt.legend(['train', 'test'], loc=\"lower right\")\n",
    "plt.show()"
   ]
  },
  {
   "cell_type": "code",
   "execution_count": 25,
   "metadata": {
    "id": "_JMyZx4HLcJs"
   },
   "outputs": [
    {
     "name": "stdout",
     "output_type": "stream",
     "text": [
      "69/69 [==============================] - 2s 23ms/step - loss: 0.0809 - acc: 0.9781\n",
      "Loss: 0.08087819069623947,\n",
      "Accuracy: 0.9781237840652466\n"
     ]
    }
   ],
   "source": [
    "loss, accuracy = lstm_model.evaluate(x_test, y_test, verbose = 1)\n",
    "print(\"Loss: {0},\\nAccuracy: {1}\".format(loss, accuracy))"
   ]
  },
  {
   "cell_type": "code",
   "execution_count": 27,
   "metadata": {},
   "outputs": [
    {
     "name": "stderr",
     "output_type": "stream",
     "text": [
      "WARNING:absl:Found untraced functions such as lstm_cell_1_layer_call_fn, lstm_cell_1_layer_call_and_return_conditional_losses, lstm_cell_2_layer_call_fn, lstm_cell_2_layer_call_and_return_conditional_losses, lstm_cell_1_layer_call_fn while saving (showing 5 of 10). These functions will not be directly callable after loading.\n",
      "WARNING:absl:Found untraced functions such as lstm_cell_1_layer_call_fn, lstm_cell_1_layer_call_and_return_conditional_losses, lstm_cell_2_layer_call_fn, lstm_cell_2_layer_call_and_return_conditional_losses, lstm_cell_1_layer_call_fn while saving (showing 5 of 10). These functions will not be directly callable after loading.\n"
     ]
    },
    {
     "name": "stdout",
     "output_type": "stream",
     "text": [
      "INFO:tensorflow:Assets written to: lstm_model/assets\n"
     ]
    },
    {
     "name": "stderr",
     "output_type": "stream",
     "text": [
      "INFO:tensorflow:Assets written to: lstm_model/assets\n"
     ]
    }
   ],
   "source": [
    "lstm_model.save(\"lstm_model\")"
   ]
  },
  {
   "cell_type": "code",
   "execution_count": null,
   "metadata": {},
   "outputs": [],
   "source": []
  }
 ],
 "metadata": {
  "colab": {
   "collapsed_sections": [],
   "name": "pos_tagging.ipynb",
   "provenance": []
  },
  "kernelspec": {
   "display_name": "Python 3",
   "language": "python",
   "name": "python3"
  },
  "language_info": {
   "codemirror_mode": {
    "name": "ipython",
    "version": 3
   },
   "file_extension": ".py",
   "mimetype": "text/x-python",
   "name": "python",
   "nbconvert_exporter": "python",
   "pygments_lexer": "ipython3",
   "version": "3.8.5"
  }
 },
 "nbformat": 4,
 "nbformat_minor": 1
}
