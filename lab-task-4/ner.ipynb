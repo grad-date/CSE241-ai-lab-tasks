{
 "cells": [
  {
   "cell_type": "markdown",
   "metadata": {},
   "source": [
    "# Named Entity Recognition (NER)"
   ]
  },
  {
   "cell_type": "markdown",
   "metadata": {},
   "source": [
    "## Loading essential packages"
   ]
  },
  {
   "cell_type": "code",
   "execution_count": 1,
   "metadata": {},
   "outputs": [],
   "source": [
    "import warnings\n",
    "warnings.filterwarnings(\"ignore\")\n",
    "\n",
    "import numpy as np\n",
    "from matplotlib import pyplot as plt\n",
    "\n",
    "from keras.utils.np_utils import to_categorical\n",
    "from keras.models import Sequential\n",
    "from keras.preprocessing.text import Tokenizer\n",
    "from keras.models import Model, Input\n",
    "from keras.layers import LSTM, Embedding, Dense, TimeDistributed, Dropout, Bidirectional, SimpleRNN\n",
    "\n",
    "from sklearn.model_selection import train_test_split\n",
    "from sklearn.utils import shuffle"
   ]
  },
  {
   "cell_type": "markdown",
   "metadata": {},
   "source": [
    "## Data Pre-processing"
   ]
  },
  {
   "cell_type": "code",
   "execution_count": 2,
   "metadata": {},
   "outputs": [
    {
     "data": {
      "text/plain": [
       "'EU NNP I-NP I-ORG\\n'"
      ]
     },
     "execution_count": 2,
     "metadata": {},
     "output_type": "execute_result"
    }
   ],
   "source": [
    "with open(\"ner.txt\",\"r\") as f:\n",
    "  raw_corpus = f.readlines()\n",
    "\n",
    "raw_corpus[0]"
   ]
  },
  {
   "cell_type": "code",
   "execution_count": 3,
   "metadata": {},
   "outputs": [
    {
     "data": {
      "text/plain": [
       "'EU NNP I-NP I-ORG'"
      ]
     },
     "execution_count": 3,
     "metadata": {},
     "output_type": "execute_result"
    }
   ],
   "source": [
    "corpus = []\n",
    "\n",
    "for i in raw_corpus:\n",
    "  corpus.append(i[:-1])\n",
    "\n",
    "corpus[0]"
   ]
  },
  {
   "cell_type": "code",
   "execution_count": 4,
   "metadata": {},
   "outputs": [
    {
     "data": {
      "text/plain": [
       "[('EU', 'I-ORG'),\n",
       " ('rejects', 'O'),\n",
       " ('German', 'I-MISC'),\n",
       " ('call', 'O'),\n",
       " ('to', 'O'),\n",
       " ('boycott', 'O'),\n",
       " ('British', 'I-MISC'),\n",
       " ('lamb', 'O')]"
      ]
     },
     "execution_count": 4,
     "metadata": {},
     "output_type": "execute_result"
    }
   ],
   "source": [
    "# x contains words and y contains pos-tags\n",
    "sample = []\n",
    "temp = []\n",
    "words = []\n",
    "tags = []\n",
    "\n",
    "# converting words into sentence\n",
    "for i in corpus:\n",
    "  if (i):\n",
    "    s = i.split()\n",
    "    if s[0] != '.' and len(s)==4:\n",
    "        t = (s[0], s[-1])\n",
    "        temp.append(t)\n",
    "        words.append(s[0])\n",
    "        tags.append(s[-1])\n",
    "    else:\n",
    "        sample.append(temp)\n",
    "        temp = []\n",
    "        \n",
    "sample[0]"
   ]
  },
  {
   "cell_type": "code",
   "execution_count": 5,
   "metadata": {},
   "outputs": [
    {
     "data": {
      "text/plain": [
       "1231"
      ]
     },
     "execution_count": 5,
     "metadata": {},
     "output_type": "execute_result"
    }
   ],
   "source": [
    "# calculating max length of words in longest sentence\n",
    "\n",
    "max_len = 0\n",
    "\n",
    "for i in sample:\n",
    "  if len(i) > max_len:\n",
    "    max_len = len(i)\n",
    "\n",
    "max_len"
   ]
  },
  {
   "cell_type": "code",
   "execution_count": 6,
   "metadata": {},
   "outputs": [],
   "source": [
    "import matplotlib.pyplot as plt\n",
    "%matplotlib inline\n",
    "plt.style.use(\"ggplot\")"
   ]
  },
  {
   "cell_type": "code",
   "execution_count": 7,
   "metadata": {},
   "outputs": [
    {
     "data": {
      "image/png": "[encoded data removed]",
      "text/plain": [
       "<Figure size 432x288 with 1 Axes>"
      ]
     },
     "metadata": {},
     "output_type": "display_data"
    }
   ],
   "source": [
    "plt.hist([len(s) for s in sample], bins=50)\n",
    "plt.show()"
   ]
  },
  {
   "cell_type": "code",
   "execution_count": 8,
   "metadata": {},
   "outputs": [],
   "source": [
    "words=list(set(words))\n",
    "words.append(\"ENDPAD\")\n",
    "len_words=len(words)"
   ]
  },
  {
   "cell_type": "code",
   "execution_count": 9,
   "metadata": {},
   "outputs": [],
   "source": [
    "tags=list(set(tags))\n",
    "tags.append(\"ENDPAD\")\n",
    "len_tags=len(tags)"
   ]
  },
  {
   "cell_type": "code",
   "execution_count": 10,
   "metadata": {},
   "outputs": [
    {
     "name": "stdout",
     "output_type": "stream",
     "text": [
      "23624 9\n"
     ]
    }
   ],
   "source": [
    "print(len_words, len_tags)"
   ]
  },
  {
   "cell_type": "code",
   "execution_count": 11,
   "metadata": {},
   "outputs": [],
   "source": [
    "word2idx = {w: i for i, w in enumerate(words)}\n",
    "tag2idx = {t: i for i, t in enumerate(tags)}"
   ]
  },
  {
   "cell_type": "code",
   "execution_count": 12,
   "metadata": {},
   "outputs": [
    {
     "data": {
      "text/plain": [
       "1768"
      ]
     },
     "execution_count": 12,
     "metadata": {},
     "output_type": "execute_result"
    }
   ],
   "source": [
    "word2idx['a']"
   ]
  },
  {
   "cell_type": "code",
   "execution_count": 13,
   "metadata": {},
   "outputs": [
    {
     "data": {
      "text/plain": [
       "3"
      ]
     },
     "execution_count": 13,
     "metadata": {},
     "output_type": "execute_result"
    }
   ],
   "source": [
    "tag2idx['O']"
   ]
  },
  {
   "cell_type": "markdown",
   "metadata": {},
   "source": [
    "## Padding the Sentences and Tags"
   ]
  },
  {
   "cell_type": "code",
   "execution_count": 14,
   "metadata": {},
   "outputs": [],
   "source": [
    "from keras.preprocessing.sequence import pad_sequences\n",
    "\n",
    "X = [[word2idx[w[0]] for w in s] for s in sample]\n",
    "X = pad_sequences(maxlen=140, sequences=X, padding=\"post\",value=len_words - 1)\n",
    "\n",
    "y = [[tag2idx[w[1]] for w in s] for s in sample]\n",
    "y = pad_sequences(maxlen=140, sequences=y, padding=\"post\", value=tag2idx[\"O\"])"
   ]
  },
  {
   "cell_type": "code",
   "execution_count": 15,
   "metadata": {},
   "outputs": [],
   "source": [
    "from keras.utils import to_categorical\n",
    "y = [to_categorical(i, num_classes=len_tags) for i in y]"
   ]
  },
  {
   "cell_type": "code",
   "execution_count": 16,
   "metadata": {},
   "outputs": [],
   "source": [
    "from sklearn.model_selection import train_test_split\n",
    "X_train, X_test, y_train, y_test = train_test_split(X, y, test_size=0.2)"
   ]
  },
  {
   "cell_type": "code",
   "execution_count": 17,
   "metadata": {},
   "outputs": [],
   "source": [
    "# converting into numpy arrays\n",
    "\n",
    "X_train = np.array(X_train)\n",
    "y_train = np.array(y_train)\n",
    "X_test = np.array(X_test)\n",
    "y_test = np.array(y_test)"
   ]
  },
  {
   "cell_type": "markdown",
   "metadata": {},
   "source": [
    "## RNN Model"
   ]
  },
  {
   "cell_type": "code",
   "execution_count": 18,
   "metadata": {},
   "outputs": [],
   "source": [
    "rnn_input = Input(shape=(140,))\n",
    "rnn_model = Embedding(input_dim=len_words, output_dim=140, input_length=140)(rnn_input)\n",
    "rnn_model = Dropout(0.1)(rnn_model)\n",
    "rnn_model = SimpleRNN(units=100, return_sequences=True, recurrent_dropout=0.1)(rnn_model)\n",
    "rnn_out = TimeDistributed(Dense(len_tags, activation=\"softmax\"))(rnn_model)"
   ]
  },
  {
   "cell_type": "code",
   "execution_count": 19,
   "metadata": {},
   "outputs": [
    {
     "name": "stdout",
     "output_type": "stream",
     "text": [
      "Model: \"model\"\n",
      "_________________________________________________________________\n",
      "Layer (type)                 Output Shape              Param #   \n",
      "=================================================================\n",
      "input_1 (InputLayer)         [(None, 140)]             0         \n",
      "_________________________________________________________________\n",
      "embedding (Embedding)        (None, 140, 140)          3307360   \n",
      "_________________________________________________________________\n",
      "dropout (Dropout)            (None, 140, 140)          0         \n",
      "_________________________________________________________________\n",
      "simple_rnn (SimpleRNN)       (None, 140, 100)          24100     \n",
      "_________________________________________________________________\n",
      "time_distributed (TimeDistri (None, 140, 9)            909       \n",
      "=================================================================\n",
      "Total params: 3,332,369\n",
      "Trainable params: 3,332,369\n",
      "Non-trainable params: 0\n",
      "_________________________________________________________________\n"
     ]
    }
   ],
   "source": [
    "rnn_model = Model(rnn_input, rnn_out)\n",
    "rnn_model.summary()"
   ]
  },
  {
   "cell_type": "code",
   "execution_count": 20,
   "metadata": {},
   "outputs": [],
   "source": [
    "rnn_model.compile(optimizer=\"adam\", loss=\"categorical_crossentropy\", metrics=[\"acc\"])"
   ]
  },
  {
   "cell_type": "code",
   "execution_count": 21,
   "metadata": {},
   "outputs": [
    {
     "name": "stdout",
     "output_type": "stream",
     "text": [
      "Epoch 1/5\n",
      "148/148 [==============================] - 11s 67ms/step - loss: 0.3928 - acc: 0.9208 - val_loss: 0.1157 - val_acc: 0.9713\n",
      "Epoch 2/5\n",
      "148/148 [==============================] - 12s 80ms/step - loss: 0.0958 - acc: 0.9730 - val_loss: 0.0586 - val_acc: 0.9818\n",
      "Epoch 3/5\n",
      "148/148 [==============================] - 12s 81ms/step - loss: 0.0465 - acc: 0.9866 - val_loss: 0.0386 - val_acc: 0.9900\n",
      "Epoch 4/5\n",
      "148/148 [==============================] - 10s 69ms/step - loss: 0.0237 - acc: 0.9952 - val_loss: 0.0292 - val_acc: 0.9919\n",
      "Epoch 5/5\n",
      "148/148 [==============================] - 10s 67ms/step - loss: 0.0130 - acc: 0.9973 - val_loss: 0.0257 - val_acc: 0.9927\n"
     ]
    }
   ],
   "source": [
    "rnn_training = rnn_model.fit(X_train, np.array(y_train), batch_size=32, epochs=5, validation_split=0.2, verbose=1)"
   ]
  },
  {
   "cell_type": "code",
   "execution_count": 22,
   "metadata": {},
   "outputs": [
    {
     "data": {
      "image/png": "[encoded data removed]",
      "text/plain": [
       "<Figure size 432x288 with 1 Axes>"
      ]
     },
     "metadata": {},
     "output_type": "display_data"
    }
   ],
   "source": [
    "plt.plot(rnn_training.history['acc'])\n",
    "plt.plot(rnn_training.history['val_acc'])\n",
    "plt.title('model accuracy')\n",
    "plt.ylabel('accuracy')\n",
    "plt.xlabel('epoch')\n",
    "plt.legend(['train', 'test'], loc=\"lower right\")\n",
    "plt.show()"
   ]
  },
  {
   "cell_type": "code",
   "execution_count": 23,
   "metadata": {},
   "outputs": [
    {
     "name": "stdout",
     "output_type": "stream",
     "text": [
      "INFO:tensorflow:Assets written to: rnn_model/assets\n"
     ]
    }
   ],
   "source": [
    "rnn_model.save(\"rnn_model\")"
   ]
  },
  {
   "cell_type": "code",
   "execution_count": 24,
   "metadata": {},
   "outputs": [
    {
     "name": "stdout",
     "output_type": "stream",
     "text": [
      "47/47 [==============================] - 0s 8ms/step - loss: 0.0274 - acc: 0.9921\n",
      "Loss: 0.027430135756731033,\n",
      "Accuracy: 0.9921307563781738\n"
     ]
    }
   ],
   "source": [
    "loss, accuracy = rnn_model.evaluate(X_test, y_test, verbose = 1)\n",
    "print(\"Loss: {0},\\nAccuracy: {1}\".format(loss, accuracy))"
   ]
  },
  {
   "cell_type": "markdown",
   "metadata": {},
   "source": [
    "## Bi-LSTM Model"
   ]
  },
  {
   "cell_type": "code",
   "execution_count": 25,
   "metadata": {},
   "outputs": [],
   "source": [
    "lstm_input = Input(shape=(140,))\n",
    "lstm_model = Embedding(input_dim=len_words, output_dim=140, input_length=140)(lstm_input)\n",
    "lstm_model = Dropout(0.1)(lstm_model)\n",
    "lstm_model = Bidirectional(LSTM(units=100, return_sequences=True, recurrent_dropout=0.1))(lstm_model)\n",
    "lstm_out = TimeDistributed(Dense(len_tags, activation=\"softmax\"))(lstm_model)"
   ]
  },
  {
   "cell_type": "code",
   "execution_count": 26,
   "metadata": {},
   "outputs": [
    {
     "name": "stdout",
     "output_type": "stream",
     "text": [
      "Model: \"model_1\"\n",
      "_________________________________________________________________\n",
      "Layer (type)                 Output Shape              Param #   \n",
      "=================================================================\n",
      "input_2 (InputLayer)         [(None, 140)]             0         \n",
      "_________________________________________________________________\n",
      "embedding_1 (Embedding)      (None, 140, 140)          3307360   \n",
      "_________________________________________________________________\n",
      "dropout_1 (Dropout)          (None, 140, 140)          0         \n",
      "_________________________________________________________________\n",
      "bidirectional (Bidirectional (None, 140, 200)          192800    \n",
      "_________________________________________________________________\n",
      "time_distributed_1 (TimeDist (None, 140, 9)            1809      \n",
      "=================================================================\n",
      "Total params: 3,501,969\n",
      "Trainable params: 3,501,969\n",
      "Non-trainable params: 0\n",
      "_________________________________________________________________\n"
     ]
    }
   ],
   "source": [
    "lstm_model = Model(lstm_input, lstm_out)\n",
    "lstm_model.summary()"
   ]
  },
  {
   "cell_type": "code",
   "execution_count": 27,
   "metadata": {},
   "outputs": [],
   "source": [
    "lstm_model.compile(optimizer=\"adam\", loss=\"categorical_crossentropy\", metrics=[\"accuracy\"])"
   ]
  },
  {
   "cell_type": "code",
   "execution_count": 28,
   "metadata": {},
   "outputs": [
    {
     "name": "stdout",
     "output_type": "stream",
     "text": [
      "Epoch 1/5\n",
      "148/148 [==============================] - 38s 241ms/step - loss: 0.5390 - accuracy: 0.9350 - val_loss: 0.1022 - val_accuracy: 0.9709\n",
      "Epoch 2/5\n",
      "148/148 [==============================] - 34s 227ms/step - loss: 0.0878 - accuracy: 0.9720 - val_loss: 0.0595 - val_accuracy: 0.9775\n",
      "Epoch 3/5\n",
      "148/148 [==============================] - 34s 228ms/step - loss: 0.0489 - accuracy: 0.9814 - val_loss: 0.0469 - val_accuracy: 0.9839\n",
      "Epoch 4/5\n",
      "148/148 [==============================] - 37s 252ms/step - loss: 0.0348 - accuracy: 0.9895 - val_loss: 0.0358 - val_accuracy: 0.9894\n",
      "Epoch 5/5\n",
      "148/148 [==============================] - 36s 241ms/step - loss: 0.0179 - accuracy: 0.9960 - val_loss: 0.0294 - val_accuracy: 0.9915\n"
     ]
    }
   ],
   "source": [
    "lstm_training = lstm_model.fit(X_train, np.array(y_train), batch_size=32, epochs=5, validation_split=0.2, verbose=1)"
   ]
  },
  {
   "cell_type": "code",
   "execution_count": 29,
   "metadata": {},
   "outputs": [
    {
     "data": {
      "image/png": "[encoded data removed]",
      "text/plain": [
       "<Figure size 432x288 with 1 Axes>"
      ]
     },
     "metadata": {},
     "output_type": "display_data"
    }
   ],
   "source": [
    "plt.plot(lstm_training.history['accuracy'])\n",
    "plt.plot(lstm_training.history['val_accuracy'])\n",
    "plt.title('model accuracy')\n",
    "plt.ylabel('accuracy')\n",
    "plt.xlabel('epoch')\n",
    "plt.legend(['train', 'test'], loc=\"lower right\")\n",
    "plt.show()"
   ]
  },
  {
   "cell_type": "code",
   "execution_count": 30,
   "metadata": {},
   "outputs": [
    {
     "name": "stdout",
     "output_type": "stream",
     "text": [
      "INFO:tensorflow:Assets written to: lstm_model/assets\n"
     ]
    }
   ],
   "source": [
    "lstm_model.save(\"lstm_model\")"
   ]
  },
  {
   "cell_type": "code",
   "execution_count": 31,
   "metadata": {},
   "outputs": [
    {
     "name": "stdout",
     "output_type": "stream",
     "text": [
      "47/47 [==============================] - 2s 36ms/step - loss: 0.0315 - accuracy: 0.9910\n",
      "Loss: 0.03149956092238426,\n",
      "Accuracy: 0.9909636974334717\n"
     ]
    }
   ],
   "source": [
    "loss, accuracy = lstm_model.evaluate(X_test, y_test, verbose = 1)\n",
    "print(\"Loss: {0},\\nAccuracy: {1}\".format(loss, accuracy))"
   ]
  },
  {
   "cell_type": "code",
   "execution_count": null,
   "metadata": {},
   "outputs": [],
   "source": []
  }
 ],
 "metadata": {
  "kernelspec": {
   "display_name": "Python 3",
   "language": "python",
   "name": "python3"
  },
  "language_info": {
   "codemirror_mode": {
    "name": "ipython",
    "version": 3
   },
   "file_extension": ".py",
   "mimetype": "text/x-python",
   "name": "python",
   "nbconvert_exporter": "python",
   "pygments_lexer": "ipython3",
   "version": "3.8.5"
  }
 },
 "nbformat": 4,
 "nbformat_minor": 4
}
